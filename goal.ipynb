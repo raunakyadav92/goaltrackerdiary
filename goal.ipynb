{
  "nbformat": 4,
  "nbformat_minor": 0,
  "metadata": {
    "colab": {
      "provenance": [],
      "authorship_tag": "ABX9TyOyf7oKT4RSaZb5geMkmzHQ",
      "include_colab_link": true
    },
    "kernelspec": {
      "name": "python3",
      "display_name": "Python 3"
    },
    "language_info": {
      "name": "python"
    }
  },
  "cells": [
    {
      "cell_type": "markdown",
      "metadata": {
        "id": "view-in-github",
        "colab_type": "text"
      },
      "source": [
        "<a href=\"https://colab.research.google.com/github/raunakyadav92/goaltrackerdiary/blob/main/goal.ipynb\" target=\"_parent\"><img src=\"https://colab.research.google.com/assets/colab-badge.svg\" alt=\"Open In Colab\"/></a>"
      ]
    },
    {
      "cell_type": "code",
      "execution_count": null,
      "metadata": {
        "id": "2UclRGwAYe5O"
      },
      "outputs": [],
      "source": [
        "import datetime\n",
        "\n",
        "goals = []\n",
        "\n",
        "def add_goal():\n",
        "    name = input(\"🎯 Enter your goal: \")\n",
        "    target_date = input(\"📅 Enter target date (YYYY-MM-DD): \")\n",
        "    goals.append({\"name\": name, \"target\": target_date, \"status\": \"Active\"})\n",
        "    print(\"✅ Goal added successfully!\")\n",
        "\n",
        "def view_goals():\n",
        "    if not goals:\n",
        "        print(\"📁 No goals yet.\")\n",
        "    else:\n",
        "        print(\"\\n--- Your Goals ---\")\n",
        "        for idx, g in enumerate(goals, 1):\n",
        "            print(f\"{idx}. {g['name']} | Target: {g['target']} | Status: {g['status']}\")\n",
        "\n",
        "def mark_completed():\n",
        "    view_goals()\n",
        "    try:\n",
        "        num = int(input(\"Enter the number of the goal to mark as completed: \"))\n",
        "        goals[num - 1][\"status\"] = \"Completed\"\n",
        "        print(\"🏆 Goal marked as completed!\")\n",
        "    except (IndexError, ValueError):\n",
        "        print(\"❌ Invalid input.\")\n",
        "\n",
        "def main():\n",
        "    print(\"🎯 Welcome to Your Goal Tracker!\")\n",
        "    while True:\n",
        "        choice = input(\"\\n1. Add Goal\\n2. View Goals\\n3. Mark Goal Completed\\n4. Exit\\nChoose: \")\n",
        "        if choice == '1':\n",
        "            add_goal()\n",
        "        elif choice == '2':\n",
        "            view_goals()\n",
        "        elif choice == '3':\n",
        "            mark_completed()\n",
        "        elif choice == '4':\n",
        "            print(\"🙏 Stay focused! Exiting Goal Tracker.\")\n",
        "            break\n",
        "        else:\n",
        "            print(\"❌ Invalid choice.\")\n",
        "\n",
        "main()\n"
      ]
    }
  ]
}