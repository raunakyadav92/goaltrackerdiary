{
  "nbformat": 4,
  "nbformat_minor": 0,
  "metadata": {
    "colab": {
      "provenance": [],
      "authorship_tag": "ABX9TyO9qZyvUQbNxs9yzqbOYGH6",
      "include_colab_link": true
    },
    "kernelspec": {
      "name": "python3",
      "display_name": "Python 3"
    },
    "language_info": {
      "name": "python"
    }
  },
  "cells": [
    {
      "cell_type": "markdown",
      "metadata": {
        "id": "view-in-github",
        "colab_type": "text"
      },
      "source": [
        "<a href=\"https://colab.research.google.com/github/raunakyadav92/goaltrackerdiary/blob/main/goal.ipynb\" target=\"_parent\"><img src=\"https://colab.research.google.com/assets/colab-badge.svg\" alt=\"Open In Colab\"/></a>"
      ]
    },
    {
      "cell_type": "code",
      "execution_count": null,
      "metadata": {
        "id": "eBITbs_CR7_e"
      },
      "outputs": [],
      "source": [
        "import datetime\n",
        "\n",
        "goals = []\n",
        "\n",
        "def add_goal():\n",
        "    goal = input(\"🎯 Enter your goal: \")\n",
        "    target = input(\"📅 Enter target date (YYYY-MM-DD): \")\n",
        "    goals.append({\"goal\": goal, \"target\": target, \"status\": \"Active\"})\n",
        "    print(\"✅ Goal added successfully!\")\n",
        "\n",
        "def view_goals():\n",
        "    if not goals:\n",
        "        print(\"❌ No goals yet. Add one now!\")\n",
        "        return\n",
        "    print(\"\\n--- Your Goals ---\")\n",
        "    for idx, g in enumerate(goals, 1):\n",
        "        print(f\"{idx}. {g['goal']} | Target: {g['target']} | Status: {g['status']}\")\n",
        "\n",
        "def mark_completed():\n",
        "    view_goals()\n",
        "    num = int(input(\"Enter the goal number to mark as completed: \"))\n",
        "    if 0 < num <= len(goals):\n",
        "        goals[num-1]['status'] = \"Completed\"\n",
        "        print(\"🏆 Goal marked as completed!\")\n",
        "    else:\n",
        "        print(\"❌ Invalid choice.\")\n",
        "\n",
        "def main():\n",
        "    print(\"📝 Welcome to Goal Tracker Diary!\")\n",
        "    while True:\n",
        "        choice = input(\"\\n1. Add Goal\\n2. View Goals\\n3. Mark Goal Completed\\n4. Exit\\nChoose: \")\n",
        "        if choice == '1':\n",
        "            add_goal()\n",
        "        elif choice == '2':\n",
        "            view_goals()\n",
        "        elif choice == '3':\n",
        "            mark_completed()\n",
        "        elif choice == '4':\n",
        "            print(\"🙏 Stay motivated and achieve your goals!\")\n",
        "            break\n",
        "        else:\n",
        "            print(\"❌ Invalid option!\")\n",
        "\n",
        "main()\n"
      ]
    }
  ]
}